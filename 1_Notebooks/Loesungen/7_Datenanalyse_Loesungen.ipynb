{
 "cells": [
  {
   "cell_type": "markdown",
   "id": "d1d9baad-a423-4ae2-a7bf-d2b73f848ffc",
   "metadata": {
    "deletable": false,
    "editable": false
   },
   "source": [
    "# Datenanalyse (Lösungen)\n",
    "\n",
    "☝️ Beachte: es gibt beim Programmieren fast immer verschiedene Lösungswege. Deine Lösung mag anders aussehen, aber dennoch zum gewünschten Resultat führen. Das richtige Resultat ist das Wichtigste. \n",
    "\n",
    "⚠️ Führe folgenden Code aus, bevor du einzelne Lösungen ausführst. "
   ]
  },
  {
   "cell_type": "code",
   "execution_count": null,
   "id": "9c9e03a4-b7bb-400b-b101-383ef481d5d5",
   "metadata": {},
   "outputs": [],
   "source": [
    "import pandas as pd\n",
    "\n",
    "#Achtung: anderer Pfad als im Notebook, da das Lösungsnotebook in einem anderen Verzeichnis liegt \n",
    "with open(\"../../3_Dateien/Songkorpus/songkorpus_token.tsv\") as f:\n",
    "    songkorpus = pd.read_csv(f, sep=\"\\t\")\n",
    "    \n",
    "songkorpus.columns = [\"Token\", \"Jahr\", \"Häufigkeit\"]\n",
    "\n",
    "tokens = songkorpus[\"Token\"]\n",
    "\n",
    "decades = []\n",
    "for year in (songkorpus[\"Jahr\"]):\n",
    "    decade = str(year)[:-1] + \"0\"\n",
    "    decades.append(decade)\n",
    "    \n",
    "songkorpus[\"Dekade\"] = decades\n",
    "original_len = len(songkorpus)"
   ]
  },
  {
   "cell_type": "markdown",
   "id": "0b22170b-c5be-4da7-91d7-ce4381124664",
   "metadata": {
    "deletable": false,
    "editable": false
   },
   "source": [
    "*** \n",
    "\n",
    "✏️ **Lösung 1:** Lass Dir das 100.000te, 200.000te und 300.000te Token in der Series `tokens` ausgeben. Verwende dazu maximal eine Zeile."
   ]
  },
  {
   "cell_type": "code",
   "execution_count": null,
   "id": "59fcc6a6-ad19-48f9-ae3b-22227cb7c32d",
   "metadata": {},
   "outputs": [],
   "source": [
    "print(tokens[[100000,200000,300000]]) #Alternative 1: Liste an Indizes (beachte die inneren eckigen Klammern!)\n",
    "print(tokens[100000::100000]) #Alternative 2: Slicing mit Start-Index 100000 und Step 100000, vgl. zweites Notebook\n",
    "print(tokens[100000], tokens[200000], tokens[300000]) #Alternative 3 (ein bisschen langweiliger als die oberen 😅)"
   ]
  },
  {
   "cell_type": "markdown",
   "id": "e9f5b42a-3e16-43c2-be74-4ac38f3b8987",
   "metadata": {
    "deletable": false,
    "editable": false
   },
   "source": [
    "*** \n",
    "\n",
    "✏️ **Lösung 2:** \n",
    "\n",
    "1. Lies die Datei `songkorpus_tokens.tsv` abermals ein und übergib beim Erstellen des DataFrames zusätzlich den Parameter `index_col=0`. Dadurch wird die erste Spalte (mit dem Index 0), also diejenige mit den Tokens, zur sog. *Index-Spalte*. Jede Zeile hat nun statt einem numerischen Index einen Namen, nämlich das jeweilige Token. Weise das DataFrame der Variablen `songkorpus_labelled_rows` zu. \n",
    "2. Benenne die Spalten wie bei `songkorpus` um. Falls Du hier eine Fehlermeldung kriegst, lies sie aufmerksam und passe Deinen Code entsprechend an.\n",
    "3. Überlege Dir, was die Tatsache, dass wir nun Tokens als Zeilennamen verwenden, zur Konsequenz hat. Experimentiere dazu gerne mit dem DataFrame herum und greife auf verschiedene Zeilen über Namen zu. "
   ]
  },
  {
   "cell_type": "code",
   "execution_count": null,
   "id": "e344fa88-b369-4be1-881c-c5ff50787505",
   "metadata": {},
   "outputs": [],
   "source": [
    "#Achtung: anderer Pfad als im Notebook, da das Lösungsnotebook in einem anderen Verzeichnis liegt \n",
    "with open(\"../../3_Dateien/Songkorpus/songkorpus_token.tsv\") as f:\n",
    "    songkorpus_labelled_rows = pd.read_csv(f, sep=\"\\t\", index_col=0) \n",
    "    \n",
    "songkorpus_labelled_rows.columns = [\"Jahr\", \"Häufigkeit\"] \n",
    "\n",
    "#Zu 3.: Zeilennamen können mehrfach vorkommen."
   ]
  },
  {
   "cell_type": "markdown",
   "id": "832e86b4-202f-42fc-9010-fc64aafec336",
   "metadata": {
    "deletable": false,
    "editable": false
   },
   "source": [
    "***\n",
    "\n",
    "✏️ **Lösung 3:** Setze die Tatsache, dass Zeilennamen mehrfach vorkommen dürfen, produktiv ein und finde heraus, wie oft \"Dresden\" in `songkorpus_labelled_rows` vorkommt, indem Du die Häufigkeiten in allen Jahren, in denen das Wort gesungen wird, zusammenzählst.\n",
    "\n",
    "💡 Tipp: Der erste Schritt besteht darin, aus dem gesamten DataFrame `songkorpus_labelled_rows` ein kleineres sog. *Sub-DataFrame* zu erstellen, das mit einer neuen Variablen referenziert wird. Der zweite Schritt besteht darin, eine Series aus diesem Sub-DataFrame \"herauszuschneiden\", die Du anschließend wie eine Liste behandeln kannst, um schließlich zur Anzahl der Nennungen von \"Dresden\" zu gelangen."
   ]
  },
  {
   "cell_type": "code",
   "execution_count": null,
   "id": "b6de3f1d-17ec-4ba7-a4b9-5cf9af7fe7b5",
   "metadata": {},
   "outputs": [],
   "source": [
    "dresden = songkorpus_labelled_rows.loc[\"Dresden\"] #erst greifen wir auf alle Zeilen zu, die \"Dresden\" als Label haben und weisen das Resultat der Variablen \"dresden\" zu\n",
    "occurrences_per_year = dresden[\"Häufigkeit\"] #anschließend greifen wir auf die Spalte \"Häufigkeit\" im Sub-DataFrame \"dresden\" zu und weisen die resultierende Series der Variablen \"occurrences_per_year\" zu\n",
    "\n",
    "#nun iterieren wir über \"occurrences_per_year\" wie bei einer Liste und erhöhen die Zählvariable \"total\" um den jeweiligen Zeilenwert\n",
    "total = 0\n",
    "for year in occurrences_per_year:\n",
    "    total += year\n",
    "    \n",
    "print(total)"
   ]
  },
  {
   "cell_type": "markdown",
   "id": "e711ea39-898d-4ae4-904d-18baca47f0ad",
   "metadata": {
    "deletable": false,
    "editable": false
   },
   "source": [
    "***\n",
    "\n",
    "✏️ **Lösung 4:** Füge `songkorpus` eine weitere Spalte mit dem Namen \"Länge\" hinzu, in der die Anzahl Buchstaben je Token steht."
   ]
  },
  {
   "cell_type": "code",
   "execution_count": null,
   "id": "8d50a8d7-ab0b-46bd-bd3b-273ab8ee4769",
   "metadata": {},
   "outputs": [],
   "source": [
    "lengths = []\n",
    "for token in songkorpus[\"Token\"]:\n",
    "    length = len(str(token)) #Casten in string ist nötig, da manche Tokens Zahlen sind und Zahlen keine Länge haben, vgl. zweites Notebook\n",
    "    lengths.append(length)\n",
    "    \n",
    "songkorpus[\"Länge\"] = lengths\n",
    "\n",
    "songkorpus.head()"
   ]
  },
  {
   "cell_type": "markdown",
   "id": "6683ed31-2a41-4d3c-8001-dcc6af6ec194",
   "metadata": {
    "deletable": false,
    "editable": false
   },
   "source": [
    "***\n",
    "\n",
    "✏️ **Lösung 5:** Vereinfache den Code von oben, mit dessen Hilfe wir die Spalte \"Dekade\" hinzugefügt haben, indem Du ihn mittels List Comprehension (vgl. viertes Notebook) auf eine einzige Zeile reduzierst. Hole den Abschnitt zu List Comprehensions nach, falls Du ihn damals ausgelassen hast, da er als fortgeschritten markiert war.\n",
    "\n",
    "Hinweis: `songkorpus` verfügt ja bereits über eine Spalte mit der Bezeichnung \"Dekade\". Indem Du das Resultat Deiner List Comprehension `songkorpus[\"Dekade\"]` zuweist, überschreibst du die befindliche Spalte ganz einfach."
   ]
  },
  {
   "cell_type": "code",
   "execution_count": null,
   "id": "1b035b44-6ad4-4224-837a-4feacd47b4da",
   "metadata": {},
   "outputs": [],
   "source": [
    "songkorpus[\"Dekade\"] = [str(year)[:-1] + \"0\" for year in songkorpus[\"Jahr\"]]\n",
    "songkorpus.head()"
   ]
  },
  {
   "cell_type": "markdown",
   "id": "b11d1ac0-f71c-4606-b82c-1f68d673a736",
   "metadata": {
    "deletable": false,
    "editable": false
   },
   "source": [
    "*** \n",
    "\n",
    "✏️ **Lösung 6:** Führe die Zelle oben, in der wir `songkorpus` Zeilen mit Fantasiewörtern hinzugefügt haben, noch ein paar Mal aus, ohne darauf zu achten wie oft. Verwende nun `drop` in einer geeigneten Kontrollstruktur (vgl. drittes Notebook) sowie die anfangs eingeführte Variable `original_len`, um die Fantasiewörter wieder zu entfernen und `songkorpus`, was die Anzahl an Zeilen betrifft, wieder in seinen Originalzustand zu bringen. "
   ]
  },
  {
   "cell_type": "code",
   "execution_count": null,
   "id": "27d7d2bf-aedc-4559-b9de-802ebc57ded2",
   "metadata": {},
   "outputs": [],
   "source": [
    "#Vorbereitung, die im Lehrnotebook nicht notwendig ist: \n",
    "#Wir füngen \"new_row\", sagen wir, 17 Mal \"songkorpus\" hinzu\n",
    "new_row = [\"Fantasiewort\", 2023, 800, 2020, 12]\n",
    "for i in range(17):\n",
    "    songkorpus.loc[len(songkorpus)] = new_row\n",
    "\n",
    "#hier beginnt die Lösung:\n",
    "#was im Schleifenkörper steht, wird wiederholt ausgeführt, bis die Länge von \"songkorpus\"\n",
    "#kleiner als die ursprüngliche Länge ist, d.h. wir hören auf, wenn beide Werte gleich viel betragen\n",
    "while len(songkorpus) > original_len:\n",
    "    #als Index setzen wir die Länge von \"songkorpus\" minus 1 ein; minus 1, da Indizes bei 0 beginnen\n",
    "    songkorpus.drop(len(songkorpus)-1, inplace=True)\n",
    "\n",
    "#hier überprüfen wir das Resultat\n",
    "songkorpus.tail()"
   ]
  },
  {
   "cell_type": "markdown",
   "id": "1656866b-407e-4065-8e22-4d4615b6ac52",
   "metadata": {
    "deletable": false,
    "editable": false
   },
   "source": [
    "*** \n",
    "\n",
    "✏️ **Lösung 7:** Mithilfe von `describe` haben wir oben herausgefunden, dass die durchschnittliche Wortlänge in `songkorpus` 6.88 Buchstaben beträgt. Die maximale Wortlänge beträgt hingegen sagenhafte 53 Buchstaben. Die Verteilung scheint alles andere als gleichmäßig zu sein, was wir auch an den sog. *Quartilen* 25% und 75% sehen (Quartile werden wie der Median berechnet, nur geht es nicht um den Mittelwert sondern um die Werte nach einem Viertel bzw. drei Vierteln aller aufgereihten Werte). Finde heraus, welche Wortlängen für jeweils mindestens 10 % aller Wörter gelten. Finde ebenfalls heraus, welche Wortlängen für jeweils maximal 1 % aller Wörter gelten.\n",
    "\n",
    "💡 Tipp: Einer von verschiedenen denkbaren Lösungswegen involviert die Tatsache, dass DataFrames und Series mit dictionaries verwandt sind und sich auch in ein solches casten lassen."
   ]
  },
  {
   "cell_type": "code",
   "execution_count": null,
   "id": "3a247969-c66f-4350-91b0-43568955a8ca",
   "metadata": {},
   "outputs": [],
   "source": [
    "lengths = dict(songkorpus[\"Länge\"].value_counts(normalize=True))\n",
    "\n",
    "min_10_pc = [] \n",
    "max_1_pc = []\n",
    "\n",
    "for key, value in lengths.items():\n",
    "    if value > 0.1:\n",
    "        min_10_pc.append(str(key))\n",
    "    elif value < 0.01:\n",
    "        max_1_pc.append(str(key))\n",
    "\n",
    "print(\"Mind. 10 %:\", \", \".join(min_10_pc), \"\\nMax. 1 %:\", \", \".join(max_1_pc))"
   ]
  },
  {
   "cell_type": "markdown",
   "id": "41973d7c-514c-4e53-bfd4-baed558e640e",
   "metadata": {
    "deletable": false,
    "editable": false
   },
   "source": [
    "***\n",
    "\n"
   ]
  },
  {
   "cell_type": "markdown",
   "id": "4a832d86-43cb-4cfe-a116-910d0b5762d7",
   "metadata": {
    "deletable": false,
    "editable": false
   },
   "source": [
    "✏️ **Lösung 8:** Wir wissen bereits, wieviele Tokens in unserem DataFrame vorkommen, nämlich 386.510. Finde heraus, wieviele einzigartige Token, also Types (vgl. viertes Notebook) es gibt."
   ]
  },
  {
   "cell_type": "code",
   "execution_count": null,
   "id": "41fd12a9-ebc2-49b0-bbf7-091913dbb227",
   "metadata": {},
   "outputs": [],
   "source": [
    "len(songkorpus[\"Token\"].unique())"
   ]
  },
  {
   "cell_type": "code",
   "execution_count": null,
   "id": "9fe22d34-73ee-43a6-9023-6373280b5b22",
   "metadata": {},
   "outputs": [],
   "source": []
  }
 ],
 "metadata": {
  "kernelspec": {
   "display_name": "exdimed",
   "language": "python",
   "name": "exdimed"
  },
  "language_info": {
   "codemirror_mode": {
    "name": "ipython",
    "version": 3
   },
   "file_extension": ".py",
   "mimetype": "text/x-python",
   "name": "python",
   "nbconvert_exporter": "python",
   "pygments_lexer": "ipython3",
   "version": "3.8.13"
  }
 },
 "nbformat": 4,
 "nbformat_minor": 5
}